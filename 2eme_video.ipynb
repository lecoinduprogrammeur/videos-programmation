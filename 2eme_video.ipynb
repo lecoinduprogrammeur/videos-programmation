{
 "cells": [
  {
   "cell_type": "code",
   "execution_count": 1,
   "metadata": {},
   "outputs": [
    {
     "name": "stdout",
     "output_type": "stream",
     "text": [
      "18 est un nombre positif\n"
     ]
    }
   ],
   "source": [
    "a = 18\n",
    "\n",
    "if a > 0:\n",
    "    print (a,\"est un nombre positif\")\n",
    "elif a < 0:\n",
    "    print (a,\"est un nombre négatif\")\n",
    "else:\n",
    "    print (a,\"est égal à zéro\")   "
   ]
  },
  {
   "cell_type": "code",
   "execution_count": 2,
   "metadata": {},
   "outputs": [
    {
     "data": {
      "text/plain": [
       "int"
      ]
     },
     "execution_count": 2,
     "metadata": {},
     "output_type": "execute_result"
    }
   ],
   "source": [
    "type(a)"
   ]
  },
  {
   "cell_type": "code",
   "execution_count": 3,
   "metadata": {},
   "outputs": [
    {
     "name": "stdout",
     "output_type": "stream",
     "text": [
      "Veuillez entrer un nombre 89\n"
     ]
    }
   ],
   "source": [
    "a = input (\"Veuillez entrer un nombre \")"
   ]
  },
  {
   "cell_type": "code",
   "execution_count": 4,
   "metadata": {},
   "outputs": [
    {
     "name": "stdout",
     "output_type": "stream",
     "text": [
      "Veuillez entrer un nombre : 56\n"
     ]
    }
   ],
   "source": [
    "a = input (\"Veuillez entrer un nombre : \")"
   ]
  },
  {
   "cell_type": "code",
   "execution_count": 5,
   "metadata": {},
   "outputs": [
    {
     "data": {
      "text/plain": [
       "'565656'"
      ]
     },
     "execution_count": 5,
     "metadata": {},
     "output_type": "execute_result"
    }
   ],
   "source": [
    "a*3"
   ]
  },
  {
   "cell_type": "code",
   "execution_count": 6,
   "metadata": {},
   "outputs": [
    {
     "name": "stdout",
     "output_type": "stream",
     "text": [
      "Veuillez entrer un nombre : 5\n"
     ]
    }
   ],
   "source": [
    "a = int(input (\"Veuillez entrer un nombre : \"))"
   ]
  },
  {
   "cell_type": "code",
   "execution_count": 7,
   "metadata": {},
   "outputs": [
    {
     "data": {
      "text/plain": [
       "25"
      ]
     },
     "execution_count": 7,
     "metadata": {},
     "output_type": "execute_result"
    }
   ],
   "source": [
    "a*5"
   ]
  },
  {
   "cell_type": "code",
   "execution_count": 8,
   "metadata": {},
   "outputs": [
    {
     "name": "stdout",
     "output_type": "stream",
     "text": [
      "Veuillez entrer un nombre : 6\n",
      "6 est un nombre positif\n"
     ]
    }
   ],
   "source": [
    "a = int(input (\"Veuillez entrer un nombre : \"))\n",
    "\n",
    "if a > 0:\n",
    "    print (a,\"est un nombre positif\")\n",
    "elif a < 0:\n",
    "    print (a,\"est un nombre négatif\")\n",
    "else:\n",
    "    print (a,\"est égal à zéro\")   "
   ]
  },
  {
   "cell_type": "code",
   "execution_count": 9,
   "metadata": {},
   "outputs": [
    {
     "name": "stdout",
     "output_type": "stream",
     "text": [
      "Veuillez entrer un nombre : -9\n",
      "-9 est un nombre négatif\n"
     ]
    }
   ],
   "source": [
    "a = int(input (\"Veuillez entrer un nombre : \"))\n",
    "\n",
    "if a > 0:\n",
    "    print (a,\"est un nombre positif\")\n",
    "elif a < 0:\n",
    "    print (a,\"est un nombre négatif\")\n",
    "else:\n",
    "    print (a,\"est égal à zéro\")  "
   ]
  },
  {
   "cell_type": "code",
   "execution_count": 10,
   "metadata": {},
   "outputs": [
    {
     "name": "stdout",
     "output_type": "stream",
     "text": [
      "Veuillez entrer un nombre : 0\n",
      "0 est égal à zéro\n"
     ]
    }
   ],
   "source": [
    "a = int(input (\"Veuillez entrer un nombre : \"))\n",
    "\n",
    "if a > 0:\n",
    "    print (a,\"est un nombre positif\")\n",
    "elif a < 0:\n",
    "    print (a,\"est un nombre négatif\")\n",
    "else:\n",
    "    print (a,\"est égal à zéro\") "
   ]
  },
  {
   "cell_type": "code",
   "execution_count": null,
   "metadata": {},
   "outputs": [],
   "source": []
  }
 ],
 "metadata": {
  "kernelspec": {
   "display_name": "Python 3",
   "language": "python",
   "name": "python3"
  },
  "language_info": {
   "codemirror_mode": {
    "name": "ipython",
    "version": 3
   },
   "file_extension": ".py",
   "mimetype": "text/x-python",
   "name": "python",
   "nbconvert_exporter": "python",
   "pygments_lexer": "ipython3",
   "version": "3.7.4"
  }
 },
 "nbformat": 4,
 "nbformat_minor": 2
}
