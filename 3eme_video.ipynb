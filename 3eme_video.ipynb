{
 "cells": [
  {
   "cell_type": "markdown",
   "metadata": {},
   "source": [
    "# 3ème vidéo 5TT"
   ]
  },
  {
   "cell_type": "code",
   "execution_count": 2,
   "metadata": {},
   "outputs": [
    {
     "name": "stdout",
     "output_type": "stream",
     "text": [
      "Bienvenue dans notre parc d'attractions\n",
      "Quel est votre âge ? 15\n",
      "Vous êtes un adolescent\n",
      "Vous devez payer la somme de 8€\n"
     ]
    }
   ],
   "source": [
    "print (\"Bienvenue dans notre parc d'attractions\")\n",
    "age = int(input(\"Quel est votre âge ? \"))\n",
    "\n",
    "if 0 <= age <= 8:\n",
    "    print (\"Vous êtes un enfant\")\n",
    "    print (\"Vous devez payer la somme de 5€\")\n",
    "elif 9 <= age <= 17:\n",
    "    print (\"Vous êtes un adolescent\")\n",
    "    print (\"Vous devez payer la somme de 8€\")\n",
    "elif 18 <= age <= 25:\n",
    "    print (\"Vous êtes un étudiant\")\n",
    "    print (\"Vous devez payer la somme de 10€\")\n",
    "else:\n",
    "    print (\"Vous êtes un adulte\")\n",
    "    print (\"Vous devez payer la somme de 12€\")   "
   ]
  },
  {
   "cell_type": "code",
   "execution_count": 3,
   "metadata": {},
   "outputs": [
    {
     "name": "stdout",
     "output_type": "stream",
     "text": [
      "ok 0\n",
      "ok 1\n",
      "ok 2\n",
      "ok 3\n",
      "ok 4\n",
      "ok 5\n",
      "ok 6\n",
      "ok 7\n",
      "ok 8\n",
      "ok 9\n",
      "ok 10\n"
     ]
    }
   ],
   "source": [
    "var = 0\n",
    "while var <= 10:\n",
    "    print (\"ok\", var)\n",
    "    var = var + 1"
   ]
  },
  {
   "cell_type": "code",
   "execution_count": 13,
   "metadata": {},
   "outputs": [
    {
     "name": "stdout",
     "output_type": "stream",
     "text": [
      "Bienvenue dans notre parc d'attractions\n",
      "Voulez-vous acheter une entrée ? oui ou non oui\n",
      "Quel est votre âge ? 15\n",
      "Voulez-vous ajouter une entrée ? oui ou non oui\n",
      "Quel est votre âge ? 16\n",
      "Voulez-vous ajouter une entrée ? oui ou non oui\n",
      "Quel est votre âge ? 23\n",
      "Voulez-vous ajouter une entrée ? oui ou non oui\n",
      "Quel est votre âge ? 25\n",
      "Voulez-vous ajouter une entrée ? oui ou non non\n",
      "Vous devez payer au total :  36 €\n",
      "Pour 0 enfants à 5€\n",
      "Pour 2 adolescents à 8€\n",
      "Pour 2 étudiants à 10€\n",
      "Pour 0 adultes 12€\n"
     ]
    }
   ],
   "source": [
    "print (\"Bienvenue dans notre parc d'attractions\")\n",
    "\n",
    "nbre_enfants = 0\n",
    "nbre_adolescents = 0\n",
    "nbre_etudiants = 0\n",
    "nbre_adultes = 0\n",
    "\n",
    "prix_enfants = 5\n",
    "prix_adoescents = 8\n",
    "prix_etudiants = 10\n",
    "prix_adultes = 12\n",
    "\n",
    "reponse = \"oui\"\n",
    "reponse = input (\"Voulez-vous acheter une entrée ? oui ou non \")\n",
    "while reponse == \"oui\":\n",
    "    age = int(input(\"Quel est votre âge ? \"))\n",
    "    if 0 <= age <= 8:\n",
    "        nbre_enfants = nbre_enfants + 1\n",
    "    elif 9 <= age <= 17:\n",
    "        nbre_adolescents = nbre_adolescents + 1\n",
    "    elif 18 <= age <= 25:\n",
    "        nbre_etudiants = nbre_etudiants + 1\n",
    "    else:\n",
    "        nbre_adultes = nbre_adultes + 1\n",
    "    \n",
    "    reponse = input (\"Voulez-vous ajouter une entrée ? oui ou non \")\n",
    "    \n",
    "total_enfants = nbre_enfants*prix_enfants\n",
    "total_adolescents = nbre_adolescents*prix_adoescents\n",
    "total_etudiants = nbre_etudiants*prix_etudiants\n",
    "total_adultes = nbre_adultes*prix_adultes\n",
    "\n",
    "total_prix_entree = total_enfants+total_adolescents+total_etudiants+total_adultes\n",
    "print (\"Vous devez payer au total : \", total_prix_entree,\"€\")\n",
    "print (\"Pour\",nbre_enfants,\"enfants à 5€\")\n",
    "print (\"Pour\",nbre_adolescents,\"adolescents à 8€\")\n",
    "print (\"Pour\",nbre_etudiants,\"étudiants à 10€\")\n",
    "print (\"Pour\",nbre_adultes,\"adultes 12€\")"
   ]
  },
  {
   "cell_type": "code",
   "execution_count": 5,
   "metadata": {},
   "outputs": [
    {
     "name": "stdout",
     "output_type": "stream",
     "text": [
      "Voulez-vous en acheter ? oui ou non oui\n",
      "nbre ? 6\n",
      "Voulez-vous en ajouter ? oui ou non oui\n",
      "nbre ? 5\n",
      "Voulez-vous en ajouter ? oui ou non non\n",
      "Vous en avez acheté 11\n",
      "Vous devez payer 16.5\n"
     ]
    }
   ],
   "source": [
    "# épicerie - tomates\n",
    "nbre = 0\n",
    "prix = 1.5\n",
    "\n",
    "reponse = \"oui\"\n",
    "reponse = input (\"Voulez-vous en acheter ? oui ou non \")\n",
    "while reponse == \"oui\":\n",
    "    nbre_en_plus = int(input(\"nbre ? \"))\n",
    "    nbre = nbre + nbre_en_plus\n",
    "    reponse = input (\"Voulez-vous en ajouter ? oui ou non \")\n",
    "\n",
    "print (\"Vous en avez acheté\", nbre)\n",
    "print (\"Vous devez payer\", nbre*prix)"
   ]
  },
  {
   "cell_type": "code",
   "execution_count": 6,
   "metadata": {},
   "outputs": [],
   "source": [
    "a = 3"
   ]
  },
  {
   "cell_type": "code",
   "execution_count": 7,
   "metadata": {},
   "outputs": [
    {
     "data": {
      "text/plain": [
       "True"
      ]
     },
     "execution_count": 7,
     "metadata": {},
     "output_type": "execute_result"
    }
   ],
   "source": [
    "a == 3"
   ]
  },
  {
   "cell_type": "code",
   "execution_count": 8,
   "metadata": {},
   "outputs": [
    {
     "data": {
      "text/plain": [
       "False"
      ]
     },
     "execution_count": 8,
     "metadata": {},
     "output_type": "execute_result"
    }
   ],
   "source": [
    "a != 3"
   ]
  }
 ],
 "metadata": {
  "kernelspec": {
   "display_name": "Python 3",
   "language": "python",
   "name": "python3"
  },
  "language_info": {
   "codemirror_mode": {
    "name": "ipython",
    "version": 3
   },
   "file_extension": ".py",
   "mimetype": "text/x-python",
   "name": "python",
   "nbconvert_exporter": "python",
   "pygments_lexer": "ipython3",
   "version": "3.7.4"
  }
 },
 "nbformat": 4,
 "nbformat_minor": 2
}
